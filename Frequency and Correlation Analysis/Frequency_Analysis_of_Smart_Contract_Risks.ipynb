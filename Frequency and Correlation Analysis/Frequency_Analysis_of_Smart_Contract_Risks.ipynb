{
  "nbformat": 4,
  "nbformat_minor": 0,
  "metadata": {
    "colab": {
      "provenance": []
    },
    "kernelspec": {
      "name": "python3",
      "display_name": "Python 3"
    },
    "language_info": {
      "name": "python"
    }
  },
  "cells": [
    {
      "cell_type": "markdown",
      "source": [
        "# Advanced Frequency Analysis of Smart Contract Risks\n",
        "\n",
        "Welcome to this interactive tutorial on conducting advanced frequency analysis using Python in Google Colab!\n",
        "\n",
        "## Objective\n",
        "The objective of this notebook is to teach you how to handle larger datasets and create dynamic visualizations to analyze the frequency of risk tags associated with smart contracts. This will involve loading data, performing data manipulation, and visualizing the results using Python libraries such as pandas, matplotlib, and seaborn.\n",
        "\n",
        "## Before You Start\n",
        "This notebook assumes you have some familiarity with basic programming concepts and a basic understanding of Python. If you are completely new to Python, I recommend reviewing Python basics before proceeding.\n",
        "\n",
        "Let's get started by setting up our environment and loading the data!\n"
      ],
      "metadata": {
        "id": "xDrhJDYtc6u6"
      }
    },
    {
      "cell_type": "markdown",
      "source": [
        "### Step 1: Import libraries"
      ],
      "metadata": {
        "id": "Xo1hNmHNdFvM"
      }
    },
    {
      "cell_type": "code",
      "source": [
        "# Import necessary libraries\n",
        "import pandas as pd\n",
        "import seaborn as sns\n",
        "import matplotlib.pyplot as plt\n",
        "\n",
        "# Display plots inline\n",
        "%matplotlib inline\n",
        "\n"
      ],
      "metadata": {
        "id": "Q2FJAW-0c-og"
      },
      "execution_count": 1,
      "outputs": []
    },
    {
      "cell_type": "markdown",
      "source": [
        "### Step 2: Download the dataset"
      ],
      "metadata": {
        "id": "ijvijUUUdLhm"
      }
    },
    {
      "cell_type": "markdown",
      "source": [
        "This step would download the Webacy Smart Contract Risk dataset. If you have your own dataset, then please add it to colab's environment."
      ],
      "metadata": {
        "id": "kf55WlVCu0V9"
      }
    },
    {
      "cell_type": "code",
      "source": [
        "!gdown 1andAuermOWqVXfhsh_AQ3Db93D3BIqgx"
      ],
      "metadata": {
        "id": "Zyf23vVqdDc2",
        "outputId": "ebb3a056-396f-4e47-ff2c-d528d5389f16",
        "colab": {
          "base_uri": "https://localhost:8080/"
        }
      },
      "execution_count": 2,
      "outputs": [
        {
          "output_type": "stream",
          "name": "stdout",
          "text": [
            "Downloading...\n",
            "From: https://drive.google.com/uc?id=1andAuermOWqVXfhsh_AQ3Db93D3BIqgx\n",
            "To: /content/compiled_risk_data.xlsx\n",
            "\r  0% 0.00/291k [00:00<?, ?B/s]\r100% 291k/291k [00:00<00:00, 68.9MB/s]\n"
          ]
        }
      ]
    },
    {
      "cell_type": "code",
      "source": [
        "print(\"Setup complete. Imported pandas, seaborn, and matplotlib. Downloaded Webacy risk dataset.\")"
      ],
      "metadata": {
        "id": "-zOFQdcuf01o",
        "outputId": "27682cc3-a5be-4d99-c240-3264bd2c54c8",
        "colab": {
          "base_uri": "https://localhost:8080/"
        }
      },
      "execution_count": 3,
      "outputs": [
        {
          "output_type": "stream",
          "name": "stdout",
          "text": [
            "Setup complete. Imported pandas, seaborn, and matplotlib. Downloaded Webacy risk dataset.\n"
          ]
        }
      ]
    },
    {
      "cell_type": "markdown",
      "source": [
        "### Step 3: Load the Data Section\n",
        "\n",
        "Now even though we have downloaded the dataset, we still need to load it into our Python environment. For this we will utilize the Pandas library."
      ],
      "metadata": {
        "id": "S6C7xRsqgJ6J"
      }
    },
    {
      "cell_type": "code",
      "source": [
        "# Loading the dataset\n",
        "\n",
        "df = pd.read_excel('/path/to/data')\n",
        "\n",
        "# Display the first five rows of the dataframe\n",
        "df.head()"
      ],
      "metadata": {
        "id": "9iNtVq0cgXGI",
        "outputId": "32c6f105-7863-4dd3-936a-34f324460c0d",
        "colab": {
          "base_uri": "https://localhost:8080/",
          "height": 356
        }
      },
      "execution_count": 4,
      "outputs": [
        {
          "output_type": "error",
          "ename": "FileNotFoundError",
          "evalue": "[Errno 2] No such file or directory: '/path/to/data'",
          "traceback": [
            "\u001b[0;31m---------------------------------------------------------------------------\u001b[0m",
            "\u001b[0;31mFileNotFoundError\u001b[0m                         Traceback (most recent call last)",
            "\u001b[0;32m<ipython-input-4-06424df41836>\u001b[0m in \u001b[0;36m<cell line: 3>\u001b[0;34m()\u001b[0m\n\u001b[1;32m      1\u001b[0m \u001b[0;31m# Loading the dataset\u001b[0m\u001b[0;34m\u001b[0m\u001b[0;34m\u001b[0m\u001b[0m\n\u001b[1;32m      2\u001b[0m \u001b[0;34m\u001b[0m\u001b[0m\n\u001b[0;32m----> 3\u001b[0;31m \u001b[0mdf\u001b[0m \u001b[0;34m=\u001b[0m \u001b[0mpd\u001b[0m\u001b[0;34m.\u001b[0m\u001b[0mread_excel\u001b[0m\u001b[0;34m(\u001b[0m\u001b[0;34m'/path/to/data'\u001b[0m\u001b[0;34m)\u001b[0m\u001b[0;34m\u001b[0m\u001b[0;34m\u001b[0m\u001b[0m\n\u001b[0m\u001b[1;32m      4\u001b[0m \u001b[0;34m\u001b[0m\u001b[0m\n\u001b[1;32m      5\u001b[0m \u001b[0;31m# Display the first five rows of the dataframe\u001b[0m\u001b[0;34m\u001b[0m\u001b[0;34m\u001b[0m\u001b[0m\n",
            "\u001b[0;32m/usr/local/lib/python3.10/dist-packages/pandas/io/excel/_base.py\u001b[0m in \u001b[0;36mread_excel\u001b[0;34m(io, sheet_name, header, names, index_col, usecols, dtype, engine, converters, true_values, false_values, skiprows, nrows, na_values, keep_default_na, na_filter, verbose, parse_dates, date_parser, date_format, thousands, decimal, comment, skipfooter, storage_options, dtype_backend, engine_kwargs)\u001b[0m\n\u001b[1;32m    493\u001b[0m     \u001b[0;32mif\u001b[0m \u001b[0;32mnot\u001b[0m \u001b[0misinstance\u001b[0m\u001b[0;34m(\u001b[0m\u001b[0mio\u001b[0m\u001b[0;34m,\u001b[0m \u001b[0mExcelFile\u001b[0m\u001b[0;34m)\u001b[0m\u001b[0;34m:\u001b[0m\u001b[0;34m\u001b[0m\u001b[0;34m\u001b[0m\u001b[0m\n\u001b[1;32m    494\u001b[0m         \u001b[0mshould_close\u001b[0m \u001b[0;34m=\u001b[0m \u001b[0;32mTrue\u001b[0m\u001b[0;34m\u001b[0m\u001b[0;34m\u001b[0m\u001b[0m\n\u001b[0;32m--> 495\u001b[0;31m         io = ExcelFile(\n\u001b[0m\u001b[1;32m    496\u001b[0m             \u001b[0mio\u001b[0m\u001b[0;34m,\u001b[0m\u001b[0;34m\u001b[0m\u001b[0;34m\u001b[0m\u001b[0m\n\u001b[1;32m    497\u001b[0m             \u001b[0mstorage_options\u001b[0m\u001b[0;34m=\u001b[0m\u001b[0mstorage_options\u001b[0m\u001b[0;34m,\u001b[0m\u001b[0;34m\u001b[0m\u001b[0;34m\u001b[0m\u001b[0m\n",
            "\u001b[0;32m/usr/local/lib/python3.10/dist-packages/pandas/io/excel/_base.py\u001b[0m in \u001b[0;36m__init__\u001b[0;34m(self, path_or_buffer, engine, storage_options, engine_kwargs)\u001b[0m\n\u001b[1;32m   1548\u001b[0m                 \u001b[0mext\u001b[0m \u001b[0;34m=\u001b[0m \u001b[0;34m\"xls\"\u001b[0m\u001b[0;34m\u001b[0m\u001b[0;34m\u001b[0m\u001b[0m\n\u001b[1;32m   1549\u001b[0m             \u001b[0;32melse\u001b[0m\u001b[0;34m:\u001b[0m\u001b[0;34m\u001b[0m\u001b[0;34m\u001b[0m\u001b[0m\n\u001b[0;32m-> 1550\u001b[0;31m                 ext = inspect_excel_format(\n\u001b[0m\u001b[1;32m   1551\u001b[0m                     \u001b[0mcontent_or_path\u001b[0m\u001b[0;34m=\u001b[0m\u001b[0mpath_or_buffer\u001b[0m\u001b[0;34m,\u001b[0m \u001b[0mstorage_options\u001b[0m\u001b[0;34m=\u001b[0m\u001b[0mstorage_options\u001b[0m\u001b[0;34m\u001b[0m\u001b[0;34m\u001b[0m\u001b[0m\n\u001b[1;32m   1552\u001b[0m                 )\n",
            "\u001b[0;32m/usr/local/lib/python3.10/dist-packages/pandas/io/excel/_base.py\u001b[0m in \u001b[0;36minspect_excel_format\u001b[0;34m(content_or_path, storage_options)\u001b[0m\n\u001b[1;32m   1400\u001b[0m         \u001b[0mcontent_or_path\u001b[0m \u001b[0;34m=\u001b[0m \u001b[0mBytesIO\u001b[0m\u001b[0;34m(\u001b[0m\u001b[0mcontent_or_path\u001b[0m\u001b[0;34m)\u001b[0m\u001b[0;34m\u001b[0m\u001b[0;34m\u001b[0m\u001b[0m\n\u001b[1;32m   1401\u001b[0m \u001b[0;34m\u001b[0m\u001b[0m\n\u001b[0;32m-> 1402\u001b[0;31m     with get_handle(\n\u001b[0m\u001b[1;32m   1403\u001b[0m         \u001b[0mcontent_or_path\u001b[0m\u001b[0;34m,\u001b[0m \u001b[0;34m\"rb\"\u001b[0m\u001b[0;34m,\u001b[0m \u001b[0mstorage_options\u001b[0m\u001b[0;34m=\u001b[0m\u001b[0mstorage_options\u001b[0m\u001b[0;34m,\u001b[0m \u001b[0mis_text\u001b[0m\u001b[0;34m=\u001b[0m\u001b[0;32mFalse\u001b[0m\u001b[0;34m\u001b[0m\u001b[0;34m\u001b[0m\u001b[0m\n\u001b[1;32m   1404\u001b[0m     ) as handle:\n",
            "\u001b[0;32m/usr/local/lib/python3.10/dist-packages/pandas/io/common.py\u001b[0m in \u001b[0;36mget_handle\u001b[0;34m(path_or_buf, mode, encoding, compression, memory_map, is_text, errors, storage_options)\u001b[0m\n\u001b[1;32m    880\u001b[0m         \u001b[0;32melse\u001b[0m\u001b[0;34m:\u001b[0m\u001b[0;34m\u001b[0m\u001b[0;34m\u001b[0m\u001b[0m\n\u001b[1;32m    881\u001b[0m             \u001b[0;31m# Binary mode\u001b[0m\u001b[0;34m\u001b[0m\u001b[0;34m\u001b[0m\u001b[0m\n\u001b[0;32m--> 882\u001b[0;31m             \u001b[0mhandle\u001b[0m \u001b[0;34m=\u001b[0m \u001b[0mopen\u001b[0m\u001b[0;34m(\u001b[0m\u001b[0mhandle\u001b[0m\u001b[0;34m,\u001b[0m \u001b[0mioargs\u001b[0m\u001b[0;34m.\u001b[0m\u001b[0mmode\u001b[0m\u001b[0;34m)\u001b[0m\u001b[0;34m\u001b[0m\u001b[0;34m\u001b[0m\u001b[0m\n\u001b[0m\u001b[1;32m    883\u001b[0m         \u001b[0mhandles\u001b[0m\u001b[0;34m.\u001b[0m\u001b[0mappend\u001b[0m\u001b[0;34m(\u001b[0m\u001b[0mhandle\u001b[0m\u001b[0;34m)\u001b[0m\u001b[0;34m\u001b[0m\u001b[0;34m\u001b[0m\u001b[0m\n\u001b[1;32m    884\u001b[0m \u001b[0;34m\u001b[0m\u001b[0m\n",
            "\u001b[0;31mFileNotFoundError\u001b[0m: [Errno 2] No such file or directory: '/path/to/data'"
          ]
        }
      ]
    },
    {
      "cell_type": "code",
      "source": [
        "# We can then visualize other aspects of the data.\n",
        "# For example, check for data types and null values\n",
        "\n",
        "df.info()"
      ],
      "metadata": {
        "id": "c8EiNP_Pgj1t"
      },
      "execution_count": null,
      "outputs": []
    },
    {
      "cell_type": "markdown",
      "source": [
        "### Frequency Analysis"
      ],
      "metadata": {
        "id": "Y0mXR_-_h87W"
      }
    },
    {
      "cell_type": "code",
      "source": [
        "# Let's now look at the value counts of an individual risk tag: is_airdrop_scam\n",
        "\n",
        "df['is_airdrop_scam'].value_counts()"
      ],
      "metadata": {
        "id": "ha_hzeAmgxdA"
      },
      "execution_count": null,
      "outputs": []
    },
    {
      "cell_type": "markdown",
      "source": [
        "Okay so we see that over 50% of the dataset has True for the column `is_airdrop_scam`. Note that this is a dummy dataset and in real world you won't have that many scams, atleast we can hope that we don't that many scams.\n",
        "\n",
        "Now, let's define all the risk columns in our dataset so that we can then run the analysis on the same."
      ],
      "metadata": {
        "id": "2oTAulvKg93s"
      }
    },
    {
      "cell_type": "code",
      "source": [
        "risk_columns = ['Is_closed_source', 'hidden_owner', 'anti_whale_modifiable',\n",
        "       'Is_anti_whale', 'Is_honeypot', 'buy_tax', 'sell_tax',\n",
        "       'slippage_modifiable', 'Is_blacklisted', 'can_take_back_ownership',\n",
        "       'owner_change_balance', 'is_airdrop_scam', 'selfdestruct', 'trust_list',\n",
        "       'is_whitelisted', 'is_fake_token', 'illegal_unicode', 'exploitation',\n",
        "       'bad_contract', 'reusing_state_variable', 'encode_packed_collision',\n",
        "       'encode_packed_parameters', 'centralized_risk_medium',\n",
        "       'centralized_risk_high', 'centralized_risk_low', 'event_setter',\n",
        "       'external_dependencies', 'immutable_states',\n",
        "       'reentrancy_without_eth_transfer', 'incorrect_inheritance_order',\n",
        "       'shadowing_local', 'events_maths']"
      ],
      "metadata": {
        "id": "BBP_bzRKhXmv"
      },
      "execution_count": null,
      "outputs": []
    },
    {
      "cell_type": "markdown",
      "source": [
        "Now that we know all the risk columns let's do a full frequency analysis on these columns."
      ],
      "metadata": {
        "id": "68kJLV9NhwDv"
      }
    },
    {
      "cell_type": "code",
      "source": [
        "# Calculating the frequency of 'True' in each risk tag column\n",
        "frequencies = df[risk_columns].apply(lambda x: x.value_counts()).loc[True]\n",
        "frequencies = frequencies.fillna(0)  # Replace NaN with 0 for any column that may not have True values\n",
        "frequencies"
      ],
      "metadata": {
        "id": "clDSN-n7hPHT"
      },
      "execution_count": null,
      "outputs": []
    },
    {
      "cell_type": "markdown",
      "source": [
        "Now that we have the frequencies, we can also visualize these using a barchart"
      ],
      "metadata": {
        "id": "8DJQcUXciNu0"
      }
    },
    {
      "cell_type": "code",
      "source": [
        "# Visualizing the frequencies using a bar chart\n",
        "sns.set_style(\"whitegrid\")\n",
        "plt.figure(figsize=(12, 8))\n",
        "sns.barplot(x=frequencies.index, y=frequencies.values, palette='viridis')\n",
        "plt.title('Frequency of True Values for Each Risk Tag')\n",
        "plt.xlabel('Risk Tags')\n",
        "plt.ylabel('Frequency of True')\n",
        "plt.xticks(rotation=90)\n",
        "plt.show()\n"
      ],
      "metadata": {
        "id": "kSqpqYXdiSzG"
      },
      "execution_count": null,
      "outputs": []
    },
    {
      "cell_type": "markdown",
      "source": [
        "**Again note that this is a dummy dataset. Your frequencies might be significantly lower than this with the real dataset.**"
      ],
      "metadata": {
        "id": "DuTOLeyuiv-b"
      }
    },
    {
      "cell_type": "markdown",
      "source": [
        "# Conclusion\n",
        "Great job! You have successfully completed a frequency analysis of risk tags in smart contracts using Python. You've learned how to load data, perform calculations, and visualize the results using some of the most powerful libraries in Python.\n",
        "\n",
        "## Next Steps\n",
        "- Try modifying the charts or calculations to explore other aspects of the data.\n",
        "- Consider analyzing the frequency of 'False' values or other specific conditions.\n",
        "- Use this notebook as a template for analyzing other datasets.\n",
        "\n",
        "Remember, the skills you've learned here are applicable to a wide range of data analysis tasks. Keep practicing and exploring!\n",
        "\n",
        "Thank you for following along, and happy coding!\n"
      ],
      "metadata": {
        "id": "Q7e8BtYxigBO"
      }
    },
    {
      "cell_type": "markdown",
      "source": [
        "## Tips for Further Learning\n",
        "- Explore the [pandas documentation](https://pandas.pydata.org/pandas-docs/stable/) for more advanced data manipulation techniques.\n",
        "- Dive deeper into [matplotlib](https://matplotlib.org/stable/contents.html) and [seaborn](https://seaborn.pydata.org/) to discover more visualization styles and options.\n",
        "- Participate in online forums and communities to enhance your learning and connect with other learners.\n"
      ],
      "metadata": {
        "id": "A9Jibvx3ilV2"
      }
    }
  ]
}